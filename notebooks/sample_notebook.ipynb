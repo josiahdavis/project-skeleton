{
 "cells": [
  {
   "cell_type": "code",
   "execution_count": 1,
   "metadata": {},
   "outputs": [],
   "source": [
    "from src.data import RandomDataset, make_random_data"
   ]
  },
  {
   "cell_type": "code",
   "execution_count": 2,
   "metadata": {},
   "outputs": [
    {
     "data": {
      "text/plain": [
       "tensor([[ 0.0941,  0.6475, -0.8482, -0.6407,  1.7982, -1.6397],\n",
       "        [ 0.6015, -1.0557, -0.6051,  2.9125,  1.2966,  0.0678],\n",
       "        [-0.8318,  0.4558,  0.3632, -0.0609, -0.1338, -0.6169]])"
      ]
     },
     "execution_count": 2,
     "metadata": {},
     "output_type": "execute_result"
    }
   ],
   "source": [
    "rd = RandomDataset(3, 6)\n",
    "x1 = rd.get_data()\n",
    "x1"
   ]
  },
  {
   "cell_type": "code",
   "execution_count": 3,
   "metadata": {},
   "outputs": [
    {
     "data": {
      "text/plain": [
       "tensor([[-0.6981,  0.2110, -0.9829, -1.3012,  0.4468,  0.2831],\n",
       "        [-0.0835,  0.6283,  1.3482, -0.7506, -0.3939, -0.7548],\n",
       "        [ 0.4802,  0.3429, -0.9919, -0.4941, -0.4436,  0.5583]])"
      ]
     },
     "execution_count": 3,
     "metadata": {},
     "output_type": "execute_result"
    }
   ],
   "source": [
    "x2 = make_random_data(3, 6)\n",
    "x2"
   ]
  },
  {
   "cell_type": "code",
   "execution_count": 4,
   "metadata": {},
   "outputs": [],
   "source": [
    "from src.models import Net"
   ]
  },
  {
   "cell_type": "code",
   "execution_count": 5,
   "metadata": {},
   "outputs": [
    {
     "data": {
      "text/plain": [
       "Net(\n",
       "  (fc): Linear(in_features=6, out_features=4, bias=True)\n",
       "  (do): Dropout(p=0.3, inplace=False)\n",
       ")"
      ]
     },
     "execution_count": 5,
     "metadata": {},
     "output_type": "execute_result"
    }
   ],
   "source": [
    "nnet = Net(6, 4, 0.3)\n",
    "nnet"
   ]
  },
  {
   "cell_type": "code",
   "execution_count": 6,
   "metadata": {},
   "outputs": [
    {
     "data": {
      "text/plain": [
       "tensor([[ 3.5340e-01, -3.6882e+06,  3.8988e+31,  6.2354e+04],\n",
       "        [ 3.5331e-01,  1.5251e+05, -6.3565e+31,  4.4500e+04],\n",
       "        [ 3.5356e-01, -1.3875e+06,  2.7444e+31, -2.6715e+04]],\n",
       "       grad_fn=<MulBackward0>)"
      ]
     },
     "execution_count": 6,
     "metadata": {},
     "output_type": "execute_result"
    }
   ],
   "source": [
    "nnet(x1)"
   ]
  }
 ],
 "metadata": {
  "kernelspec": {
   "display_name": "Python 3",
   "language": "python",
   "name": "python3"
  },
  "language_info": {
   "codemirror_mode": {
    "name": "ipython",
    "version": 3
   },
   "file_extension": ".py",
   "mimetype": "text/x-python",
   "name": "python",
   "nbconvert_exporter": "python",
   "pygments_lexer": "ipython3",
   "version": "3.6.5"
  }
 },
 "nbformat": 4,
 "nbformat_minor": 2
}
